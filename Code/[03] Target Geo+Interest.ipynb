{
 "cells": [
  {
   "cell_type": "code",
   "execution_count": 1,
   "id": "b9f0631b",
   "metadata": {},
   "outputs": [],
   "source": [
    "import pickle\n",
    "import os \n",
    "import itertools\n",
    "\n",
    "import pandas as pd\n",
    "import numpy as np\n",
    "import tensorflow as tf\n",
    "\n",
    "import scipy\n",
    "import sklearn\n",
    "\n",
    "from utils.config import load_config\n",
    "from sklearn.preprocessing import OrdinalEncoder\n",
    "\n",
    "import matplotlib.pyplot as plt\n",
    "\n",
    "tf.config.run_functions_eagerly(True)"
   ]
  },
  {
   "cell_type": "code",
   "execution_count": 2,
   "id": "883d84cb",
   "metadata": {},
   "outputs": [],
   "source": [
    "def save_pickle(filename, file):\n",
    "    filehandler = open(filename, \"wb\")\n",
    "    pickle.dump(file, filehandler)\n",
    "    filehandler.close()\n",
    "\n",
    "def load_pickle(filename):\n",
    "    file = open(filename,'rb')\n",
    "    object_file = pickle.load(file)\n",
    "    file.close()\n",
    "    return object_file"
   ]
  },
  {
   "cell_type": "code",
   "execution_count": 3,
   "id": "1d33e7de",
   "metadata": {},
   "outputs": [
    {
     "data": {
      "text/plain": [
       "Index(['group', 'item', 'channel', 'date', 'bid', 'budget', 'engagements',\n",
       "       'page_views', 'clicks', 'active_days', 'media_spend', 'media_cpc',\n",
       "       'cpe', 'headline', 'storySummary', 'IABCategory', 'targetGeo',\n",
       "       'targetInterest', 'targetAge', 'targetOs', 'targetDevices',\n",
       "       'targetGender', 'targetLanguages', 'CATEGORY_1'],\n",
       "      dtype='object')"
      ]
     },
     "execution_count": 3,
     "metadata": {},
     "output_type": "execute_result"
    }
   ],
   "source": [
    "data_path = \"../problem_merged_data.csv\"\n",
    "df = pd.read_csv(data_path)\n",
    "df.keys()"
   ]
  },
  {
   "cell_type": "code",
   "execution_count": 4,
   "id": "5f0b3d03",
   "metadata": {},
   "outputs": [
    {
     "name": "stdout",
     "output_type": "stream",
     "text": [
      "Access Our AFib Guide Access Cleveland Clinic's free Afib guide to learn about treatment options from the nation's #1 heart program. Get answers today.\n"
     ]
    }
   ],
   "source": [
    "print(df[\"headline\"].iloc[200], df[\"storySummary\"].iloc[200])"
   ]
  },
  {
   "cell_type": "code",
   "execution_count": null,
   "id": "5b4f4562",
   "metadata": {},
   "outputs": [],
   "source": []
  },
  {
   "cell_type": "code",
   "execution_count": null,
   "id": "af305091",
   "metadata": {},
   "outputs": [],
   "source": []
  },
  {
   "cell_type": "markdown",
   "id": "683679fd",
   "metadata": {},
   "source": [
    "### Check Target Geo + Interest"
   ]
  },
  {
   "cell_type": "code",
   "execution_count": 5,
   "id": "6a0d4dfd",
   "metadata": {},
   "outputs": [],
   "source": [
    "# check if len total == len list\n",
    "# se tiver overlap não será igual (!) - um item que aparece em multiplos lugares\n",
    "list_geotype = list(df[\"targetGeo\"])\n",
    "\n",
    "# GeoTypes + Names\n",
    "# GEO TYPES: {'COUNTRY', 'CITY', 'BUCKET', 'DMA', 'POSTALCODE', 'REGION'}\n",
    "def get_geo_types(elem):\n",
    "    _list = []\n",
    "    elem_split_list = elem.split(';')\n",
    "    \n",
    "    for elem in elem_split_list:\n",
    "        if len(elem) > 1:\n",
    "            _dict = eval(elem)\n",
    "            _list.append(_dict['geoType'])\n",
    "    \n",
    "    return list(set(_list))"
   ]
  },
  {
   "cell_type": "code",
   "execution_count": 6,
   "id": "db4f4741",
   "metadata": {},
   "outputs": [
    {
     "name": "stdout",
     "output_type": "stream",
     "text": [
      "{'COUNTRY', 'DMA', 'BUCKET', 'POSTALCODE', 'CITY', 'REGION'}\n"
     ]
    }
   ],
   "source": [
    "_list_all_geotypes = []\n",
    "for elem in list_geotype:\n",
    "    _list_all_geotypes.extend(get_geo_types(elem))\n",
    "\n",
    "print(set(_list_all_geotypes))"
   ]
  },
  {
   "cell_type": "code",
   "execution_count": 7,
   "id": "2fc25062",
   "metadata": {},
   "outputs": [],
   "source": [
    "_NAME_KEYS = ['countryName', 'cityName', 'bucketName', 'regionName', 'postalCodeName', 'regionName']\n",
    "\n",
    "TYPE_KEYS = ['COUNTRY', 'CITY', 'BUCKET', 'DMA', 'POSTALCODE', 'REGION']\n",
    "\n",
    "DICT_TYPE_KEYS = {'COUNTRY': 'countryName',\n",
    "                  'CITY': 'cityName',\n",
    "                  'BUCKET': 'bucketName',\n",
    "                  'DMA': 'regionName',\n",
    "                  'POSTALCODE': 'postalCodeName',\n",
    "                  'REGION': 'regionName'}\n",
    "\n",
    "INFO_NAMES = ['postalCodeName',  'cityName', 'regionName', 'bucketName', 'countryName']"
   ]
  },
  {
   "cell_type": "code",
   "execution_count": 8,
   "id": "11bc6cfb",
   "metadata": {},
   "outputs": [],
   "source": [
    "def get_geo_names(elem):\n",
    "    _dict_geo_names = {_key:[] for _key in INFO_NAMES}\n",
    "    elem_split_list = elem.split(';')\n",
    "    \n",
    "    for elem in elem_split_list:\n",
    "        if len(elem) > 1:\n",
    "            _dict = eval(elem)\n",
    "            \n",
    "            for _key in INFO_NAMES:\n",
    "                if _key in _dict.keys():\n",
    "                    _dict_geo_names[_key].append(_dict[_key])\n",
    "    \n",
    "    return _dict_geo_names\n",
    "    \n",
    "\n",
    "def gen_text_geo(elem):\n",
    "    _dict_geo_names = get_geo_names(elem)\n",
    "    text = \"\"\n",
    "    \n",
    "    for _key in _dict_geo_names.keys():\n",
    "        if _dict_geo_names[_key]:\n",
    "            _str = _key.replace(\"Name\", \"\").replace(\"Code\", \"Code\")\n",
    "            text+=f\"{_str} \"\n",
    "            for _words in _dict_geo_names[_key]:\n",
    "                text+=f\"{_words} \"\n",
    "    return text[:-1].lower()"
   ]
  },
  {
   "cell_type": "code",
   "execution_count": 9,
   "id": "6b60062b",
   "metadata": {},
   "outputs": [
    {
     "name": "stdout",
     "output_type": "stream",
     "text": [
      "0 region illinois indiana iowa kentucky michigan minnesota missouri nebraska north dakota ohio south dakota wisconsin country united states united states united states united states united states united states united states united states united states united states united states united states\n",
      "1 region illinois indiana iowa kentucky michigan minnesota missouri nebraska north dakota ohio south dakota wisconsin country united states united states united states united states united states united states united states united states united states united states united states united states\n"
     ]
    }
   ],
   "source": [
    "for idx, elem in enumerate(list_geotype[-100:-98]):\n",
    "    print(idx, gen_text_geo(elem))"
   ]
  },
  {
   "cell_type": "code",
   "execution_count": 10,
   "id": "a7355274",
   "metadata": {},
   "outputs": [
    {
     "data": {
      "text/plain": [
       "'{\"channelId\":\"YAHOO\",\"channelName\":\"Yahoo\",\"interestId\":\"oath3p:52948934\",\"interestName\":\"Hypertension Propensity - Reach Tier 1 [3rd Party Data > Adstra (ALC) > Syndicated > Health & Wellness > Disease Propensity by Type/Rx Use]\",\"interestDescription\":\"Individuals likely to have a Cardiovascular condition, such as Hypertension, that is treated with a Prescription/Rx medication, who fall into Reach Tier 1.\",\"interestType\":\"oath3p\"};'"
      ]
     },
     "execution_count": 10,
     "metadata": {},
     "output_type": "execute_result"
    }
   ],
   "source": [
    "# all with descriptions?\n",
    "df_filt = df.copy()\n",
    "df_filt = df_filt.fillna(value=\"UNK\")\n",
    "\n",
    "temp = df_filt[\"targetInterest\"].iloc[100]\n",
    "temp"
   ]
  },
  {
   "cell_type": "code",
   "execution_count": 11,
   "id": "a811287f",
   "metadata": {},
   "outputs": [],
   "source": [
    "def gen_target_interest(elem):\n",
    "    if elem != 'UNK':\n",
    "        elem_split_list = elem.split(';')\n",
    "        \n",
    "        for _elem in elem_split_list:\n",
    "            if len(_elem) > 1:\n",
    "                _elem = _elem.replace(\":true}\", \":True}\").replace(\":false}\", \":False}\")\n",
    "                _dict = eval(_elem)\n",
    "                return \"interest description: \"+_dict[\"interestDescription\"]\n",
    "    else:\n",
    "        return \"unknown interest description\""
   ]
  },
  {
   "cell_type": "code",
   "execution_count": 12,
   "id": "1053aa76",
   "metadata": {},
   "outputs": [
    {
     "data": {
      "text/plain": [
       "'interest description: Individuals likely to have a Cardiovascular condition, such as Hypertension, that is treated with a Prescription/Rx medication, who fall into Reach Tier 1.'"
      ]
     },
     "execution_count": 12,
     "metadata": {},
     "output_type": "execute_result"
    }
   ],
   "source": [
    "_temp_text = gen_target_interest(temp)\n",
    "_temp_text"
   ]
  },
  {
   "cell_type": "code",
   "execution_count": null,
   "id": "0d931fb5",
   "metadata": {},
   "outputs": [],
   "source": []
  },
  {
   "cell_type": "markdown",
   "id": "4c697eb1",
   "metadata": {},
   "source": [
    "#### Vocabulary"
   ]
  },
  {
   "cell_type": "code",
   "execution_count": 13,
   "id": "5c05a6ab",
   "metadata": {},
   "outputs": [],
   "source": [
    "import re\n",
    "from nltk.corpus import stopwords\n",
    "\n",
    "\n",
    "def remove_special_characters(text):\n",
    "    clean_text = re.sub(r'[^a-zA-Z0-9\\s]', '', text)\n",
    "    return clean_text\n",
    "\n",
    "def convert_to_lowercase(text):\n",
    "    lowercased_text = text.lower()\n",
    "    return lowercased_text\n",
    "\n",
    "def clean_all(text):\n",
    "    text = remove_special_characters(text)\n",
    "    text = convert_to_lowercase(text)\n",
    "    return text"
   ]
  },
  {
   "cell_type": "code",
   "execution_count": 14,
   "id": "f24b3a6b",
   "metadata": {},
   "outputs": [
    {
     "name": "stdout",
     "output_type": "stream",
     "text": [
      "1110\n"
     ]
    }
   ],
   "source": [
    "_list_vocab = []\n",
    "\n",
    "for _, elem in enumerate(df_filt[\"targetGeo\"]):\n",
    "    text = clean_all(gen_text_geo(elem))\n",
    "    _list_vocab.extend(text.split(\" \"))\n",
    "    \n",
    "for _, elem in enumerate(df_filt[\"targetInterest\"]):\n",
    "    text = clean_all(gen_target_interest(elem))\n",
    "    _list_vocab.extend(text.split(\" \"))\n",
    "\n",
    "\n",
    "for _, elem in enumerate(df_filt[\"headline\"]):\n",
    "    text = clean_all(elem)\n",
    "    _list_vocab.extend(text.split(\" \"))\n",
    "    \n",
    "for _, elem in enumerate(df_filt[\"storySummary\"]):\n",
    "    text = clean_all(elem)\n",
    "    _list_vocab.extend(text.split(\" \"))\n",
    "\n",
    "\n",
    "_list_vocab = list(set(_list_vocab))\n",
    "_list_vocab.sort()\n",
    "_list_vocab = _list_vocab[1:]\n",
    "\n",
    "print(len(_list_vocab))"
   ]
  },
  {
   "cell_type": "code",
   "execution_count": 15,
   "id": "1bbc8ec9",
   "metadata": {},
   "outputs": [],
   "source": [
    "_list_vocab = list(set(_list_vocab))\n",
    "with open('aux_data/vocab_file.txt', 'w') as f:\n",
    "    for line in _list_vocab:\n",
    "        f.write(f\"{line}\\n\")\n"
   ]
  },
  {
   "cell_type": "code",
   "execution_count": null,
   "id": "b38d3725",
   "metadata": {},
   "outputs": [],
   "source": []
  },
  {
   "cell_type": "code",
   "execution_count": null,
   "id": "2fbdf308",
   "metadata": {},
   "outputs": [],
   "source": []
  },
  {
   "cell_type": "code",
   "execution_count": null,
   "id": "4fdc01c7",
   "metadata": {},
   "outputs": [],
   "source": []
  },
  {
   "cell_type": "code",
   "execution_count": null,
   "id": "f5fbbb3c",
   "metadata": {},
   "outputs": [],
   "source": []
  },
  {
   "cell_type": "code",
   "execution_count": null,
   "id": "12fc988b",
   "metadata": {},
   "outputs": [],
   "source": []
  },
  {
   "cell_type": "code",
   "execution_count": null,
   "id": "7ff8017c",
   "metadata": {},
   "outputs": [],
   "source": []
  },
  {
   "cell_type": "code",
   "execution_count": null,
   "id": "a790ba71",
   "metadata": {},
   "outputs": [],
   "source": []
  },
  {
   "cell_type": "code",
   "execution_count": null,
   "id": "a6465c9a",
   "metadata": {},
   "outputs": [],
   "source": []
  },
  {
   "cell_type": "code",
   "execution_count": null,
   "id": "acd1266e",
   "metadata": {},
   "outputs": [],
   "source": []
  },
  {
   "cell_type": "code",
   "execution_count": null,
   "id": "a13045e3",
   "metadata": {},
   "outputs": [],
   "source": []
  },
  {
   "cell_type": "code",
   "execution_count": null,
   "id": "82c29a64",
   "metadata": {},
   "outputs": [],
   "source": []
  },
  {
   "cell_type": "code",
   "execution_count": null,
   "id": "d352d551",
   "metadata": {},
   "outputs": [],
   "source": []
  },
  {
   "cell_type": "code",
   "execution_count": null,
   "id": "b284d81d",
   "metadata": {},
   "outputs": [],
   "source": []
  },
  {
   "cell_type": "code",
   "execution_count": null,
   "id": "8d99f4c4",
   "metadata": {},
   "outputs": [],
   "source": []
  },
  {
   "cell_type": "code",
   "execution_count": null,
   "id": "791462f8",
   "metadata": {},
   "outputs": [],
   "source": []
  },
  {
   "cell_type": "code",
   "execution_count": null,
   "id": "84df5ec6",
   "metadata": {},
   "outputs": [],
   "source": []
  },
  {
   "cell_type": "code",
   "execution_count": null,
   "id": "f7a36b62",
   "metadata": {},
   "outputs": [],
   "source": []
  },
  {
   "cell_type": "code",
   "execution_count": null,
   "id": "3c42ace7",
   "metadata": {},
   "outputs": [],
   "source": []
  },
  {
   "cell_type": "code",
   "execution_count": null,
   "id": "c8864d78",
   "metadata": {},
   "outputs": [],
   "source": []
  },
  {
   "cell_type": "code",
   "execution_count": null,
   "id": "553d6bb3",
   "metadata": {},
   "outputs": [],
   "source": []
  },
  {
   "cell_type": "code",
   "execution_count": null,
   "id": "0e5be3b6",
   "metadata": {},
   "outputs": [],
   "source": []
  },
  {
   "cell_type": "code",
   "execution_count": null,
   "id": "210d42e1",
   "metadata": {},
   "outputs": [],
   "source": []
  },
  {
   "cell_type": "code",
   "execution_count": null,
   "id": "66fb6dc3",
   "metadata": {},
   "outputs": [],
   "source": []
  },
  {
   "cell_type": "code",
   "execution_count": null,
   "id": "2d5ea325",
   "metadata": {},
   "outputs": [],
   "source": []
  },
  {
   "cell_type": "code",
   "execution_count": null,
   "id": "abcf87e1",
   "metadata": {},
   "outputs": [],
   "source": []
  },
  {
   "cell_type": "code",
   "execution_count": null,
   "id": "8eca7011",
   "metadata": {},
   "outputs": [],
   "source": []
  },
  {
   "cell_type": "code",
   "execution_count": null,
   "id": "5329efb4",
   "metadata": {},
   "outputs": [],
   "source": []
  }
 ],
 "metadata": {
  "kernelspec": {
   "display_name": "Python 3 (ipykernel)",
   "language": "python",
   "name": "python3"
  },
  "language_info": {
   "codemirror_mode": {
    "name": "ipython",
    "version": 3
   },
   "file_extension": ".py",
   "mimetype": "text/x-python",
   "name": "python",
   "nbconvert_exporter": "python",
   "pygments_lexer": "ipython3",
   "version": "3.10.6"
  }
 },
 "nbformat": 4,
 "nbformat_minor": 5
}
