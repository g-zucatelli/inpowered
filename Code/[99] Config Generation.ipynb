{
 "cells": [
  {
   "cell_type": "code",
   "execution_count": 10,
   "id": "b9f0631b",
   "metadata": {},
   "outputs": [],
   "source": [
    "import pickle\n",
    "import os \n",
    "import itertools\n",
    "import glob\n",
    "\n",
    "import pandas as pd\n",
    "import numpy as np\n",
    "\n",
    "from utils.config import load_config, save_config"
   ]
  },
  {
   "cell_type": "code",
   "execution_count": 5,
   "id": "8779cf55",
   "metadata": {},
   "outputs": [
    {
     "data": {
      "text/plain": [
       "{'name': 'baseline_engagements',\n",
       " 'seed': 42,\n",
       " 'datapath': '../problem_merged_data.csv',\n",
       " 'pre_process': {'processed_data_path': 'processed_data/baseline_engage_0.8.pkl',\n",
       "  'num_input': ['bid', 'budget'],\n",
       "  'cat_input': None,\n",
       "  'target_output': 'engagements',\n",
       "  'train_split': 0.8},\n",
       " 'train': {'cat_emb_dim': 4,\n",
       "  'learning_rate': 0.001,\n",
       "  'decay_steps': 20,\n",
       "  'decay_rate': 0.98,\n",
       "  'dense_dims': [1024, 1024, 1024, 1024, 1024, 1024, 16],\n",
       "  '_drop_out_rate': 0.2,\n",
       "  'use_test_as_valid': True,\n",
       "  'valid_split': 0.1,\n",
       "  'batch_size': 128,\n",
       "  'epochs': 100},\n",
       " 'cpe_min': {'engage_model_path': 'experiments/baseline_engagements/model/model.keras',\n",
       "  'media_spend_model_path': 'experiments/baseline_media_spend/model/model.keras',\n",
       "  'engage_data': 'processed_data/baseline_engage_0.8.pkl',\n",
       "  'spend_data': 'processed_data/baseline_spend_0.8.pkl',\n",
       "  'bid_range': [0.1, 1.1],\n",
       "  'budget_range': [5.9, 680],\n",
       "  'n_grid': 20,\n",
       "  'sample_idx': 170,\n",
       "  'max_media_spend': None}}"
      ]
     },
     "execution_count": 5,
     "metadata": {},
     "output_type": "execute_result"
    }
   ],
   "source": [
    "config_path = \"configs/baseline_engagements.json\"\n",
    "\n",
    "config = load_config(config_path)\n",
    "config"
   ]
  },
  {
   "cell_type": "code",
   "execution_count": null,
   "id": "774ced42",
   "metadata": {},
   "outputs": [],
   "source": []
  },
  {
   "cell_type": "code",
   "execution_count": 15,
   "id": "0bacae14",
   "metadata": {},
   "outputs": [],
   "source": [
    "#TRAIN_SPLIT = [0.7, 0.8, 0.9]\n",
    "#CAT_EMB_DIM = [2, 4, 8, 16, 32, 64, 128]\n",
    "\n",
    "TRAIN_SPLIT = [0.8]\n",
    "CAT_EMB_DIM = [4, 16, 64] #[2, 4, 8, 16, 32, 64, 128]\n",
    "\n",
    "\n",
    "def select_random(_list):\n",
    "    np.random.shuffle(_list)\n",
    "    return _list[0]"
   ]
  },
  {
   "cell_type": "code",
   "execution_count": 16,
   "id": "3c6563be",
   "metadata": {},
   "outputs": [],
   "source": [
    "NUM_MID_DENSE = [6, 7] \n",
    "DENSE_MID_DIM = [1024, 2048]\n",
    "END_DIM = [16, 32, 64, 128] #[2, 4, 8, 16]\n",
    "\n",
    "def gen_random_arch():\n",
    "    num_mid_dense = select_random(NUM_MID_DENSE)\n",
    "    dense_mid_dim = select_random(DENSE_MID_DIM)\n",
    "    end_dim = select_random(END_DIM)\n",
    "    \n",
    "    dense_dims = [dense_mid_dim for _ in range(num_mid_dense)]\n",
    "    dense_dims.append(end_dim)\n",
    "    return dense_dims"
   ]
  },
  {
   "cell_type": "code",
   "execution_count": 17,
   "id": "7a0573ca",
   "metadata": {},
   "outputs": [],
   "source": [
    "LR = [0.001] # [0.01, 0.001, 0.0001]\n",
    "DROP_OUT = [0.2, 0.3] #[0.1, 0.2, 0.3, 0.4, 0.5]\n",
    "\n",
    "def get_random_in_range(MAX, MIN):\n",
    "    return (MAX-MIN)*np.random.rand() + MIN"
   ]
  },
  {
   "cell_type": "code",
   "execution_count": 18,
   "id": "f7a864a5",
   "metadata": {},
   "outputs": [
    {
     "name": "stdout",
     "output_type": "stream",
     "text": [
      "Random Examples: 0.8 16 [2048, 2048, 2048, 2048, 2048, 2048, 2048, 32] 0.00080991 0.26784373\n"
     ]
    }
   ],
   "source": [
    "train_split = select_random(TRAIN_SPLIT)\n",
    "cat_emb_dim = select_random(CAT_EMB_DIM)\n",
    "\n",
    "dense_dims = gen_random_arch()\n",
    "\n",
    "learning_rate = np.round(10**get_random_in_range(-2, -4), 8)\n",
    "drop_out = np.round(get_random_in_range(0.5, 0.1), 8)\n",
    "\n",
    "print(\"Random Examples:\", train_split, cat_emb_dim, dense_dims, learning_rate, drop_out)"
   ]
  },
  {
   "cell_type": "code",
   "execution_count": null,
   "id": "35e7c671",
   "metadata": {},
   "outputs": [],
   "source": []
  },
  {
   "cell_type": "markdown",
   "id": "df83c261",
   "metadata": {},
   "source": [
    "#### Random Config Engagement"
   ]
  },
  {
   "cell_type": "code",
   "execution_count": 19,
   "id": "f80f29c8",
   "metadata": {},
   "outputs": [],
   "source": [
    "config_path = \"configs/baseline_engagements.json\"\n",
    "config = load_config(config_path)"
   ]
  },
  {
   "cell_type": "code",
   "execution_count": 20,
   "id": "3c968b14",
   "metadata": {},
   "outputs": [],
   "source": [
    "for _n_rand in range(20):\n",
    "    new_config = config.copy()\n",
    "    \n",
    "    train_split = select_random(TRAIN_SPLIT)\n",
    "    \n",
    "    cat_emb_dim = select_random(CAT_EMB_DIM)\n",
    "    dense_dims = gen_random_arch()\n",
    "\n",
    "    learning_rate = np.round(10**get_random_in_range(-2, -4), 8)\n",
    "    drop_out = np.round(get_random_in_range(0.5, 0.1), 8)\n",
    "    \n",
    "    \n",
    "    new_config[\"name\"] = config[\"name\"]+f\"_{_n_rand}\"\n",
    "    new_config[\"pre_process\"][\"train_split\"] = train_split\n",
    "    new_config[\"pre_process\"][\"processed_data_path\"] = f'processed_data/baseline_engagement_{train_split}.pkl'\n",
    "    \n",
    "    new_config[\"train\"][\"cat_emb_dim\"] = cat_emb_dim\n",
    "    new_config[\"train\"][\"dense_dims\"] = dense_dims\n",
    "    new_config[\"train\"][\"learning_rate\"] = learning_rate\n",
    "    new_config[\"train\"][\"_drop_out_rate\"] = drop_out\n",
    "    \n",
    "    path_out = f\"configs/random_search/{new_config['name']}.json\"\n",
    "    save_config(path_out, new_config)"
   ]
  },
  {
   "cell_type": "code",
   "execution_count": null,
   "id": "07ef074f",
   "metadata": {},
   "outputs": [],
   "source": []
  },
  {
   "cell_type": "markdown",
   "id": "41ae472e",
   "metadata": {},
   "source": [
    "#### Random Config Media Spend"
   ]
  },
  {
   "cell_type": "code",
   "execution_count": 21,
   "id": "364a09d1",
   "metadata": {},
   "outputs": [],
   "source": [
    "config_path = \"configs/baseline_media_spend.json\"\n",
    "config = load_config(config_path)"
   ]
  },
  {
   "cell_type": "code",
   "execution_count": 22,
   "id": "70c96986",
   "metadata": {},
   "outputs": [],
   "source": [
    "for _n_rand in range(20):\n",
    "    new_config = config.copy()\n",
    "    \n",
    "    train_split = select_random(TRAIN_SPLIT)\n",
    "    \n",
    "    cat_emb_dim = select_random(CAT_EMB_DIM)\n",
    "    dense_dims = gen_random_arch()\n",
    "\n",
    "    learning_rate = np.round(10**get_random_in_range(-2, -4), 8)\n",
    "    drop_out = np.round(get_random_in_range(0.5, 0.1), 8)\n",
    "    \n",
    "    \n",
    "    new_config[\"name\"] = config[\"name\"]+f\"_{_n_rand}\"\n",
    "    new_config[\"pre_process\"][\"train_split\"] = train_split\n",
    "    new_config[\"pre_process\"][\"processed_data_path\"] = f'processed_data/baseline_media_spend_{train_split}.pkl'\n",
    "    \n",
    "    new_config[\"train\"][\"cat_emb_dim\"] = cat_emb_dim\n",
    "    new_config[\"train\"][\"dense_dims\"] = dense_dims\n",
    "    new_config[\"train\"][\"learning_rate\"] = learning_rate\n",
    "    new_config[\"train\"][\"_drop_out_rate\"] = drop_out\n",
    "    \n",
    "    path_out = f\"configs/random_search/{new_config['name']}.json\"\n",
    "    save_config(path_out, new_config)"
   ]
  },
  {
   "cell_type": "code",
   "execution_count": null,
   "id": "fad9c18f",
   "metadata": {},
   "outputs": [],
   "source": []
  },
  {
   "cell_type": "markdown",
   "id": "bd5a7bb3",
   "metadata": {},
   "source": [
    "#### Make Scripts"
   ]
  },
  {
   "cell_type": "code",
   "execution_count": 23,
   "id": "523c9283",
   "metadata": {},
   "outputs": [],
   "source": [
    "import glob"
   ]
  },
  {
   "cell_type": "code",
   "execution_count": 24,
   "id": "cf2d9acf",
   "metadata": {},
   "outputs": [
    {
     "data": {
      "text/plain": [
       "40"
      ]
     },
     "execution_count": 24,
     "metadata": {},
     "output_type": "execute_result"
    }
   ],
   "source": [
    "list_random_configs = glob.glob(\"configs/random_search/*json\")\n",
    "list_random_configs.sort(key=os.path.getmtime)\n",
    "len(list_random_configs)"
   ]
  },
  {
   "cell_type": "code",
   "execution_count": 25,
   "id": "8d464538",
   "metadata": {},
   "outputs": [
    {
     "data": {
      "text/plain": [
       "['bash main.sh configs/random_search/baseline_engagements_0.json\\n',\n",
       " 'bash main.sh configs/random_search/baseline_engagements_1.json\\n',\n",
       " 'bash main.sh configs/random_search/baseline_engagements_2.json\\n']"
      ]
     },
     "execution_count": 25,
     "metadata": {},
     "output_type": "execute_result"
    }
   ],
   "source": [
    "cmds = [f\"bash main.sh {elem}\\n\" for elem in list_random_configs]\n",
    "cmds[:3]"
   ]
  },
  {
   "cell_type": "code",
   "execution_count": 26,
   "id": "6a350217",
   "metadata": {},
   "outputs": [],
   "source": [
    "with open(\"run_random_search_baseline.sh\", \"w\") as fhandle:\n",
    "    for cmd in cmds:\n",
    "        fhandle.write(cmd)"
   ]
  },
  {
   "cell_type": "code",
   "execution_count": null,
   "id": "c7a41a69",
   "metadata": {},
   "outputs": [],
   "source": []
  },
  {
   "cell_type": "code",
   "execution_count": null,
   "id": "957947e4",
   "metadata": {},
   "outputs": [],
   "source": []
  },
  {
   "cell_type": "code",
   "execution_count": null,
   "id": "05faee44",
   "metadata": {},
   "outputs": [],
   "source": []
  },
  {
   "cell_type": "code",
   "execution_count": null,
   "id": "6c1e70f8",
   "metadata": {},
   "outputs": [],
   "source": []
  },
  {
   "cell_type": "code",
   "execution_count": null,
   "id": "3a8e1be3",
   "metadata": {},
   "outputs": [],
   "source": []
  },
  {
   "cell_type": "code",
   "execution_count": null,
   "id": "7ac8eb37",
   "metadata": {},
   "outputs": [],
   "source": []
  },
  {
   "cell_type": "markdown",
   "id": "f2acadcc",
   "metadata": {},
   "source": [
    "#### Baseline Search"
   ]
  },
  {
   "cell_type": "code",
   "execution_count": 6,
   "id": "454c182e",
   "metadata": {},
   "outputs": [],
   "source": [
    "config_path = \"configs/baseline_engagements.json\"\n",
    "config = load_config(config_path)"
   ]
  },
  {
   "cell_type": "code",
   "execution_count": 7,
   "id": "99339275",
   "metadata": {},
   "outputs": [],
   "source": [
    "idx=0\n",
    "\n",
    "for num_mid_dense in [6, 7]:\n",
    "    for dense_mid_dim in [1024, 2048]:\n",
    "        for cat_emb_dim in [4, 8, 16]:\n",
    "            for end_dim in [8, 16, 32, 64]:\n",
    "                idx+=1\n",
    "                \n",
    "                new_config = config.copy()\n",
    "                new_config[\"name\"] = config[\"name\"]+f\"_{idx}\"\n",
    "                \n",
    "                dense_dims = [dense_mid_dim for _ in range(num_mid_dense)]\n",
    "                dense_dims.append(end_dim)\n",
    "\n",
    "                new_config[\"train\"][\"cat_emb_dim\"] = cat_emb_dim\n",
    "                new_config[\"train\"][\"dense_dims\"] = dense_dims\n",
    "\n",
    "                path_out = f\"configs/baseline_search/{new_config['name']}.json\"\n",
    "                save_config(path_out, new_config)"
   ]
  },
  {
   "cell_type": "code",
   "execution_count": null,
   "id": "e3f79b32",
   "metadata": {},
   "outputs": [],
   "source": []
  },
  {
   "cell_type": "code",
   "execution_count": 8,
   "id": "cff08f41",
   "metadata": {},
   "outputs": [],
   "source": [
    "config_path = \"configs/baseline_media_spend.json\"\n",
    "config = load_config(config_path)"
   ]
  },
  {
   "cell_type": "code",
   "execution_count": 9,
   "id": "47f6004e",
   "metadata": {},
   "outputs": [],
   "source": [
    "idx=0\n",
    "\n",
    "for num_mid_dense in [6, 7]:\n",
    "    for dense_mid_dim in [1024, 2048]:\n",
    "        for cat_emb_dim in [4, 8, 16]:\n",
    "            for end_dim in [8, 16, 32, 64]:\n",
    "                idx+=1\n",
    "                \n",
    "                new_config = config.copy()\n",
    "                new_config[\"name\"] = config[\"name\"]+f\"_{idx}\"\n",
    "                \n",
    "                dense_dims = [dense_mid_dim for _ in range(num_mid_dense)]\n",
    "                dense_dims.append(end_dim)\n",
    "\n",
    "                new_config[\"train\"][\"cat_emb_dim\"] = cat_emb_dim\n",
    "                new_config[\"train\"][\"dense_dims\"] = dense_dims\n",
    "\n",
    "                path_out = f\"configs/baseline_search/{new_config['name']}.json\"\n",
    "                save_config(path_out, new_config)"
   ]
  },
  {
   "cell_type": "code",
   "execution_count": null,
   "id": "cb26374f",
   "metadata": {},
   "outputs": [],
   "source": []
  },
  {
   "cell_type": "code",
   "execution_count": 11,
   "id": "af024217",
   "metadata": {},
   "outputs": [
    {
     "data": {
      "text/plain": [
       "96"
      ]
     },
     "execution_count": 11,
     "metadata": {},
     "output_type": "execute_result"
    }
   ],
   "source": [
    "# Make Run (!)\n",
    "list_random_configs = glob.glob(\"configs/baseline_search/*json\")\n",
    "list_random_configs.sort(key=os.path.getmtime)\n",
    "len(list_random_configs)"
   ]
  },
  {
   "cell_type": "code",
   "execution_count": 12,
   "id": "11c8b306",
   "metadata": {},
   "outputs": [
    {
     "data": {
      "text/plain": [
       "['bash main.sh configs/baseline_search/baseline_engagements_1.json\\n',\n",
       " 'bash main.sh configs/baseline_search/baseline_engagements_2.json\\n',\n",
       " 'bash main.sh configs/baseline_search/baseline_engagements_3.json\\n']"
      ]
     },
     "execution_count": 12,
     "metadata": {},
     "output_type": "execute_result"
    }
   ],
   "source": [
    "cmds = [f\"bash main.sh {elem}\\n\" for elem in list_random_configs]\n",
    "cmds[:3]"
   ]
  },
  {
   "cell_type": "code",
   "execution_count": 13,
   "id": "8e0bc01c",
   "metadata": {},
   "outputs": [],
   "source": [
    "with open(\"run_search_baseline.sh\", \"w\") as fhandle:\n",
    "    for cmd in cmds:\n",
    "        fhandle.write(cmd)"
   ]
  },
  {
   "cell_type": "code",
   "execution_count": null,
   "id": "1ce361b4",
   "metadata": {},
   "outputs": [],
   "source": []
  },
  {
   "cell_type": "code",
   "execution_count": null,
   "id": "93774b63",
   "metadata": {},
   "outputs": [],
   "source": []
  },
  {
   "cell_type": "code",
   "execution_count": null,
   "id": "fb9d4de8",
   "metadata": {},
   "outputs": [],
   "source": []
  },
  {
   "cell_type": "code",
   "execution_count": null,
   "id": "b73cee11",
   "metadata": {},
   "outputs": [],
   "source": []
  },
  {
   "cell_type": "code",
   "execution_count": null,
   "id": "6a519d0b",
   "metadata": {},
   "outputs": [],
   "source": []
  },
  {
   "cell_type": "code",
   "execution_count": null,
   "id": "a9fcdba9",
   "metadata": {},
   "outputs": [],
   "source": []
  },
  {
   "cell_type": "code",
   "execution_count": null,
   "id": "6a8eb293",
   "metadata": {},
   "outputs": [],
   "source": []
  },
  {
   "cell_type": "code",
   "execution_count": null,
   "id": "eca2bdff",
   "metadata": {},
   "outputs": [],
   "source": []
  },
  {
   "cell_type": "code",
   "execution_count": null,
   "id": "b407fd6f",
   "metadata": {},
   "outputs": [],
   "source": []
  },
  {
   "cell_type": "code",
   "execution_count": null,
   "id": "99cd71a9",
   "metadata": {},
   "outputs": [],
   "source": []
  },
  {
   "cell_type": "code",
   "execution_count": null,
   "id": "89dd7673",
   "metadata": {},
   "outputs": [],
   "source": []
  },
  {
   "cell_type": "code",
   "execution_count": null,
   "id": "3a3a95c5",
   "metadata": {},
   "outputs": [],
   "source": []
  },
  {
   "cell_type": "code",
   "execution_count": null,
   "id": "7fabc1bc",
   "metadata": {},
   "outputs": [],
   "source": []
  },
  {
   "cell_type": "code",
   "execution_count": null,
   "id": "a8f4bb21",
   "metadata": {},
   "outputs": [],
   "source": []
  }
 ],
 "metadata": {
  "kernelspec": {
   "display_name": "Python 3 (ipykernel)",
   "language": "python",
   "name": "python3"
  },
  "language_info": {
   "codemirror_mode": {
    "name": "ipython",
    "version": 3
   },
   "file_extension": ".py",
   "mimetype": "text/x-python",
   "name": "python",
   "nbconvert_exporter": "python",
   "pygments_lexer": "ipython3",
   "version": "3.10.6"
  }
 },
 "nbformat": 4,
 "nbformat_minor": 5
}
